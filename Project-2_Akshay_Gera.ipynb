{
 "cells": [
  {
   "cell_type": "code",
   "execution_count": 31,
   "id": "41ec97f9",
   "metadata": {},
   "outputs": [],
   "source": [
    "import os\n",
    "import shutil"
   ]
  },
  {
   "cell_type": "markdown",
   "id": "3abb4f3d",
   "metadata": {},
   "source": [
    "# 1) Defining File Paths (For Source and Destination)"
   ]
  },
  {
   "cell_type": "code",
   "execution_count": 32,
   "id": "f69b772a",
   "metadata": {},
   "outputs": [],
   "source": [
    "# Creating objects for source folders for training images\n",
    "train_healthy_folder = \"C:\\\\Users\\\\akshay gera\\\\ML Theory and Practise Lab\\\\Project 2\\\\Project 2\\\\Olives Dataset\\\\Train\\\\Healthy\"\n",
    "train_aculus_folder = \"C:\\\\Users\\\\akshay gera\\\\ML Theory and Practise Lab\\\\Project 2\\\\Project 2\\\\Olives Dataset\\\\Train\\\\aculus_olearius\"\n",
    "train_peacock_folder = \"C:\\\\Users\\\\akshay gera\\\\ML Theory and Practise Lab\\\\Project 2\\\\Project 2\\\\Olives Dataset\\\\Train\\\\olive_peacock_spot\"\n",
    "\n",
    "# Creating objects for source folders for testing images\n",
    "\n",
    "test_healthy_folder = \"C:\\\\Users\\\\akshay gera\\\\ML Theory and Practise Lab\\\\Project 2\\\\Project 2\\\\Olives Dataset\\\\test\\\\Healthy\"\n",
    "test_aculus_folder = \"C:\\\\Users\\\\akshay gera\\\\ML Theory and Practise Lab\\\\Project 2\\\\Project 2\\\\Olives Dataset\\\\test\\\\aculus_olearius\"\n",
    "test_peacock_folder = \"C:\\\\Users\\\\akshay gera\\\\ML Theory and Practise Lab\\\\Project 2\\\\Project 2\\\\Olives Dataset\\\\test\\\\olive_peacock_spot\"\n",
    "\n",
    "\n",
    "# Defining paths for destination folder\n",
    "train_destination_folder = \"C:\\\\Users\\\\akshay gera\\\\ML Theory and Practise Lab\\\\Project 2\\\\Project 2\\\\Train\"\n",
    "test_destination_folder = \"C:\\\\Users\\\\akshay gera\\\\ML Theory and Practise Lab\\\\Project 2\\\\Project 2\\\\Test\""
   ]
  },
  {
   "cell_type": "markdown",
   "id": "46aed059",
   "metadata": {},
   "source": [
    "# 2) Transferring and Renaming Files to Destination Folders"
   ]
  },
  {
   "cell_type": "code",
   "execution_count": 33,
   "id": "c3be93a9",
   "metadata": {},
   "outputs": [
    {
     "name": "stdout",
     "output_type": "stream",
     "text": [
      "All copied\n",
      "All copied\n"
     ]
    }
   ],
   "source": [
    "# Copying Healthy files All images to destination Train Folder\n",
    "\n",
    "for file_name in os.listdir(train_healthy_folder):\n",
    "    # construct full file path\n",
    "    source = train_healthy_folder + '\\\\' + file_name\n",
    "    destination = train_destination_folder\n",
    "    # copy only files\n",
    "    if os.path.isfile(source):\n",
    "        shutil.copy(source, destination)\n",
    "print('All copied')\n",
    "        \n",
    "# Copying Healthy files All images to destination Test Folder\n",
    "\n",
    "for file_name in os.listdir(test_healthy_folder):\n",
    "    # construct full file path\n",
    "    source = test_healthy_folder + '\\\\' + file_name\n",
    "    destination = test_destination_folder\n",
    "    # copy only files\n",
    "    if os.path.isfile(source):\n",
    "        shutil.copy(source, destination)\n",
    "print('All copied')"
   ]
  },
  {
   "cell_type": "code",
   "execution_count": 34,
   "id": "36d9c0b8",
   "metadata": {},
   "outputs": [
    {
     "name": "stdout",
     "output_type": "stream",
     "text": [
      "Training Folder All Files Renamed\n",
      "Test Folder All Files Renamed\n"
     ]
    }
   ],
   "source": [
    "# Renaming the copied 'Healthy' files to Healthy_1 - nth series for Train Folder\n",
    "\n",
    "count=1\n",
    "for file_name in os.listdir(train_destination_folder):\n",
    "    source = train_destination_folder + '\\\\' + file_name\n",
    "    destination = train_destination_folder + '\\\\' + f'Healthy_{count}' + '.jpg'\n",
    "    os.rename(source, destination)\n",
    "    count+=1\n",
    "print('Training Folder All Files Renamed')\n",
    "\n",
    "\n",
    "# Renaming the copied 'Healthy' files to Healthy_1 - nth series for Test Folder\n",
    "\n",
    "count=1\n",
    "for file_name in os.listdir(test_destination_folder):\n",
    "    source = test_destination_folder + '\\\\' + file_name\n",
    "    destination = test_destination_folder + '\\\\' + f'Healthy_{count}' + '.jpg'\n",
    "    os.rename(source, destination)\n",
    "    count+=1\n",
    "print('Test Folder All Files Renamed')"
   ]
  },
  {
   "cell_type": "code",
   "execution_count": 35,
   "id": "9ea9ddb8",
   "metadata": {},
   "outputs": [
    {
     "name": "stdout",
     "output_type": "stream",
     "text": [
      "All copied\n",
      "All copied\n"
     ]
    }
   ],
   "source": [
    "# Copying Aculus Bacterial images to destination Train folder\n",
    "\n",
    "for file_name in os.listdir(train_aculus_folder):\n",
    "    # construct full file path\n",
    "    source = train_aculus_folder + '\\\\' + file_name\n",
    "    destination = train_destination_folder\n",
    "    # copy only files\n",
    "    if os.path.isfile(source):\n",
    "        shutil.copy(source, destination)\n",
    "print('All copied')\n",
    "        \n",
    "# Copying Aculus Bacterial images to destination Test folder\n",
    "\n",
    "for file_name in os.listdir(test_aculus_folder):\n",
    "    # construct full file path\n",
    "    source = test_aculus_folder + '\\\\' + file_name\n",
    "    destination = test_destination_folder\n",
    "    # copy only files\n",
    "    if os.path.isfile(source):\n",
    "        shutil.copy(source, destination)\n",
    "print('All copied')"
   ]
  },
  {
   "cell_type": "code",
   "execution_count": 36,
   "id": "8e700b89",
   "metadata": {},
   "outputs": [
    {
     "name": "stdout",
     "output_type": "stream",
     "text": [
      "All Files Renamed\n",
      "All Files Renamed\n"
     ]
    }
   ],
   "source": [
    "# Renaming the copied 'Aculus'  files to Aculus_1 - nth series in Train Folder\n",
    "\n",
    "count=1\n",
    "for file_name in os.listdir(train_destination_folder):\n",
    "    \n",
    "    # If existing name is not 'healthy' it will rename the newly added files to 'Aculus'\n",
    "    if file_name[:7] != 'Healthy':\n",
    "        \n",
    "        source = train_destination_folder + '\\\\' + file_name\n",
    "        destination = train_destination_folder + '\\\\' + f'Aculus_{count}' + '.jpg'\n",
    "        os.rename(source, destination)\n",
    "        count+=1\n",
    "print('All Files Renamed')\n",
    "\n",
    "# Renaming the copied 'Aculus'  files to Aculus_1 - nth series in Test Folder\n",
    "\n",
    "count=1\n",
    "for file_name in os.listdir(test_destination_folder):\n",
    "    \n",
    "    # If existing name is not 'healthy' it will rename the newly added files to 'Aculus'\n",
    "    if file_name[:7] != 'Healthy':\n",
    "        \n",
    "        source = test_destination_folder + '\\\\' + file_name\n",
    "        destination = test_destination_folder + '\\\\' + f'Aculus_{count}' + '.jpg'\n",
    "        os.rename(source, destination)\n",
    "        count+=1\n",
    "print('All Files Renamed')"
   ]
  },
  {
   "cell_type": "code",
   "execution_count": 37,
   "id": "1e54238f",
   "metadata": {},
   "outputs": [
    {
     "name": "stdout",
     "output_type": "stream",
     "text": [
      "All copied\n",
      "All copied\n"
     ]
    }
   ],
   "source": [
    "# Copying Peacock Spot Bacterial images to destination Train folder\n",
    "\n",
    "for file_name in os.listdir(train_peacock_folder):\n",
    "    # construct full file path\n",
    "    source = train_peacock_folder + '\\\\' + file_name\n",
    "    destination = train_destination_folder\n",
    "    # copy only files\n",
    "    if os.path.isfile(source):\n",
    "        shutil.copy(source, destination)\n",
    "print('All copied')\n",
    "\n",
    "# Copying Peacock Spot Bacterial images to destination Test folder\n",
    "\n",
    "for file_name in os.listdir(test_peacock_folder):\n",
    "    # construct full file path\n",
    "    source = test_peacock_folder + '\\\\' + file_name\n",
    "    destination = test_destination_folder\n",
    "    # copy only files\n",
    "    if os.path.isfile(source):\n",
    "        shutil.copy(source, destination)\n",
    "print('All copied')"
   ]
  },
  {
   "cell_type": "code",
   "execution_count": 38,
   "id": "2284b8c8",
   "metadata": {},
   "outputs": [
    {
     "name": "stdout",
     "output_type": "stream",
     "text": [
      "All Files Renamed\n",
      "All Files Renamed\n"
     ]
    }
   ],
   "source": [
    "# Renaming the copied 'Peacock Spot'  files to Peacock_1 - nth series in Train Folder\n",
    "\n",
    "count=1\n",
    "for file_name in os.listdir(train_destination_folder):\n",
    "    \n",
    "    # If existing name is not 'healthy' and 'Aculus it will rename the newly added files to 'Peacock'\n",
    "    if file_name[:7] != 'Healthy' and file_name[:6] != 'Aculus':\n",
    "        \n",
    "        source = train_destination_folder + '\\\\' + file_name\n",
    "        destination = train_destination_folder + '\\\\' + f'Peacock_{count}' + '.jpg'\n",
    "        os.rename(source, destination)\n",
    "        count+=1\n",
    "print('All Files Renamed')\n",
    "\n",
    "# Renaming the copied 'Peacock Spot'  files to Peacock_1 - nth series in Test Folder\n",
    "\n",
    "count=1\n",
    "for file_name in os.listdir(test_destination_folder):\n",
    "    \n",
    "    # If existing name is not 'healthy' and 'Aculus it will rename the newly added files to 'Peacock'\n",
    "    if file_name[:7] != 'Healthy' and file_name[:6] != 'Aculus':\n",
    "        \n",
    "        source = test_destination_folder + '\\\\' + file_name\n",
    "        destination = test_destination_folder + '\\\\' + f'Peacock_{count}' + '.jpg'\n",
    "        os.rename(source, destination)\n",
    "        count+=1\n",
    "print('All Files Renamed')"
   ]
  },
  {
   "cell_type": "code",
   "execution_count": 39,
   "id": "aa7a39e5",
   "metadata": {},
   "outputs": [],
   "source": [
    "import os, itertools\n",
    "import numpy as np\n",
    "import pandas as pd\n",
    "import matplotlib.pyplot as plt\n",
    "%matplotlib inline\n",
    "import cv2"
   ]
  },
  {
   "cell_type": "markdown",
   "id": "2449932f",
   "metadata": {},
   "source": [
    "# 3) Preprocessing of Image Files. Converting Images to Numpy Arrays"
   ]
  },
  {
   "cell_type": "code",
   "execution_count": 40,
   "id": "f2da34d4",
   "metadata": {},
   "outputs": [],
   "source": [
    "# Mentioning the pixel size of the image. \n",
    "# For optimiizing computation time we are preferring 64*64 pixels for 3 channels (Red, Green & Blue)\n",
    "\n",
    "trainload = train_destination_folder\n",
    "testload = test_destination_folder\n",
    "rows =64\n",
    "cols = 64\n",
    "channels = 3"
   ]
  },
  {
   "cell_type": "code",
   "execution_count": 41,
   "id": "72ccaac2",
   "metadata": {},
   "outputs": [],
   "source": [
    "# Creating list objects with files paths\n",
    "\n",
    "train_imgs = [trainload + '\\\\' + i for i in os.listdir(trainload)]\n",
    "test_imgs = [testload + '\\\\' + i for i in os.listdir(testload)]"
   ]
  },
  {
   "cell_type": "code",
   "execution_count": 42,
   "id": "ddcab26c",
   "metadata": {},
   "outputs": [],
   "source": [
    "# Function for to convert the image file into numpy array according to mentioned pixels\n",
    "\n",
    "def read_image(file_path):\n",
    "    img = cv2.imread(file_path, cv2.IMREAD_COLOR)\n",
    "    return cv2.resize(img, (rows, cols), interpolation=cv2.INTER_CUBIC)"
   ]
  },
  {
   "cell_type": "code",
   "execution_count": 43,
   "id": "fde59cc1",
   "metadata": {},
   "outputs": [],
   "source": [
    "# Using a function to prepare the image data as required by ML model \n",
    "\n",
    "def prep_data(images):\n",
    "    m = len(images)\n",
    "    n_x = rows * cols * channels\n",
    "    \n",
    "    X = np.ndarray((n_x, m), dtype=np.uint8)\n",
    "    y = np.zeros((1,m))\n",
    "    print(\"X.shape is {}\".format(X.shape))\n",
    "    \n",
    "    for i, image_file in enumerate(images):\n",
    "        image = read_image(image_file)\n",
    "        X[:,i] = np.squeeze(image.reshape((n_x, 1)))\n",
    "        \n",
    "        # Labelling of target variable y if healthy is found in name then y=0, if aculus y=1 and if peacock y=2\n",
    "        if 'healthy' in image_file.lower():\n",
    "            y[0,i] = 0\n",
    "        elif 'aculus' in image_file.lower():\n",
    "            y[0,i] = 1\n",
    "        elif 'peacock' in image_file.lower():\n",
    "            y[0,i] = 2\n",
    "        else:\n",
    "            y[0,i] = image_file.split('/')[-1].split('.')[0]\n",
    "        \n",
    "        if i % 5000 == 0:\n",
    "            print(\"Proceed {} of {}\".format(i, m))\n",
    "        \n",
    "    return X, y\n"
   ]
  },
  {
   "cell_type": "code",
   "execution_count": 44,
   "id": "76cf58de",
   "metadata": {
    "scrolled": true
   },
   "outputs": [
    {
     "name": "stdout",
     "output_type": "stream",
     "text": [
      "X.shape is (12288, 2720)\n",
      "Proceed 0 of 2720\n",
      "X.shape is (12288, 680)\n",
      "Proceed 0 of 680\n"
     ]
    }
   ],
   "source": [
    "# Splitting and creating seperate data arrays for train test and features target splits\n",
    "\n",
    "X_train, y_train = prep_data(train_imgs)\n",
    "X_test, y_test = prep_data(test_imgs)"
   ]
  },
  {
   "cell_type": "code",
   "execution_count": 45,
   "id": "e7f5f8ea",
   "metadata": {},
   "outputs": [],
   "source": [
    "# Setting class of bacterial and healthy\n",
    "\n",
    "classes = {0:\"healthy\", 1:\"aculus\", 2:\"peacock\"}"
   ]
  },
  {
   "cell_type": "markdown",
   "id": "947c15f7",
   "metadata": {},
   "source": [
    "# 4) Visual Exploration of the Data"
   ]
  },
  {
   "cell_type": "code",
   "execution_count": 46,
   "id": "a6126b03",
   "metadata": {},
   "outputs": [
    {
     "name": "stderr",
     "output_type": "stream",
     "text": [
      "C:\\Users\\AKSHAY~1\\AppData\\Local\\Temp/ipykernel_1888/2154659577.py:9: SettingWithCopyWarning: \n",
      "A value is trying to be set on a copy of a slice from a DataFrame\n",
      "\n",
      "See the caveats in the documentation: https://pandas.pydata.org/pandas-docs/stable/user_guide/indexing.html#returning-a-view-versus-a-copy\n",
      "  train_lables_df['Image_Class'][i] = classes[train_lables_df[0][i]]\n"
     ]
    }
   ],
   "source": [
    "# Creating a temporary dataframe train_lables which will contain only a column of labels of the data\n",
    "# This will enable us to plot frequency distribution of different types of images in our folder\n",
    "\n",
    "train_lables_df = pd.DataFrame(y_train.T)\n",
    "\n",
    "# Creating a column Image_Class which will contain class name\n",
    "train_lables_df['Image_Class'] = ''\n",
    "for i in train_lables_df.index:\n",
    "    train_lables_df['Image_Class'][i] = classes[train_lables_df[0][i]]"
   ]
  },
  {
   "cell_type": "code",
   "execution_count": 47,
   "id": "1f30f1b6",
   "metadata": {},
   "outputs": [
    {
     "data": {
      "text/plain": [
       "Text(0.5, 1.0, 'Training Set Distribution of Images')"
      ]
     },
     "execution_count": 47,
     "metadata": {},
     "output_type": "execute_result"
    },
    {
     "data": {
      "image/png": "[encoded data removed]",
      "text/plain": [
       "<Figure size 432x288 with 1 Axes>"
      ]
     },
     "metadata": {
      "needs_background": "light"
     },
     "output_type": "display_data"
    }
   ],
   "source": [
    "# Plotting frequency distribution of different images in our Training dataframe \n",
    "\n",
    "import seaborn as sns\n",
    "sns.countplot(x=train_lables_df['Image_Class'])\n",
    "plt.title('Training Set Distribution of Images')"
   ]
  },
  {
   "cell_type": "code",
   "execution_count": 48,
   "id": "7930faa4",
   "metadata": {},
   "outputs": [
    {
     "name": "stderr",
     "output_type": "stream",
     "text": [
      "C:\\Users\\AKSHAY~1\\AppData\\Local\\Temp/ipykernel_1888/914109310.py:9: SettingWithCopyWarning: \n",
      "A value is trying to be set on a copy of a slice from a DataFrame\n",
      "\n",
      "See the caveats in the documentation: https://pandas.pydata.org/pandas-docs/stable/user_guide/indexing.html#returning-a-view-versus-a-copy\n",
      "  test_lables_df['Image_Class'][i] = classes[test_lables_df[0][i]]\n"
     ]
    }
   ],
   "source": [
    "# Creating a temporary dataframe train_lables which will contain only a column of labels of the data\n",
    "# This will enable us to plot frequency distribution of different types of images in our folder\n",
    "\n",
    "test_lables_df = pd.DataFrame(y_test.T)\n",
    "\n",
    "# Creating a column Image_Class which will contain class name\n",
    "test_lables_df['Image_Class'] = ''\n",
    "for i in test_lables_df.index:\n",
    "    test_lables_df['Image_Class'][i] = classes[test_lables_df[0][i]]"
   ]
  },
  {
   "cell_type": "code",
   "execution_count": 49,
   "id": "54c816d9",
   "metadata": {
    "scrolled": true
   },
   "outputs": [
    {
     "data": {
      "text/plain": [
       "Text(0.5, 1.0, 'Testing Set Distribution of Images')"
      ]
     },
     "execution_count": 49,
     "metadata": {},
     "output_type": "execute_result"
    },
    {
     "data": {
      "image/png": "[encoded data removed]",
      "text/plain": [
       "<Figure size 432x288 with 1 Axes>"
      ]
     },
     "metadata": {
      "needs_background": "light"
     },
     "output_type": "display_data"
    }
   ],
   "source": [
    "# Plotting frequency distribution of different images in our Training dataframe \n",
    "\n",
    "import seaborn as sns\n",
    "sns.countplot(x=test_lables_df['Image_Class'])\n",
    "plt.title('Testing Set Distribution of Images')"
   ]
  },
  {
   "cell_type": "code",
   "execution_count": 50,
   "id": "425eb251",
   "metadata": {},
   "outputs": [
    {
     "name": "stdout",
     "output_type": "stream",
     "text": [
      "Total Nr of Images in the dataset: 2720\n"
     ]
    },
    {
     "data": {
      "text/html": [
       "<div>\n",
       "<style scoped>\n",
       "    .dataframe tbody tr th:only-of-type {\n",
       "        vertical-align: middle;\n",
       "    }\n",
       "\n",
       "    .dataframe tbody tr th {\n",
       "        vertical-align: top;\n",
       "    }\n",
       "\n",
       "    .dataframe thead th {\n",
       "        text-align: right;\n",
       "    }\n",
       "</style>\n",
       "<table border=\"1\" class=\"dataframe\">\n",
       "  <thead>\n",
       "    <tr style=\"text-align: right;\">\n",
       "      <th></th>\n",
       "      <th>FileName</th>\n",
       "      <th>Size</th>\n",
       "      <th>Width</th>\n",
       "      <th>Height</th>\n",
       "      <th>Aspect Ratio</th>\n",
       "    </tr>\n",
       "  </thead>\n",
       "  <tbody>\n",
       "    <tr>\n",
       "      <th>0</th>\n",
       "      <td>Aculus_1.jpg</td>\n",
       "      <td>(800, 600)</td>\n",
       "      <td>800</td>\n",
       "      <td>600</td>\n",
       "      <td>1.33</td>\n",
       "    </tr>\n",
       "    <tr>\n",
       "      <th>1</th>\n",
       "      <td>Aculus_10.jpg</td>\n",
       "      <td>(800, 600)</td>\n",
       "      <td>800</td>\n",
       "      <td>600</td>\n",
       "      <td>1.33</td>\n",
       "    </tr>\n",
       "    <tr>\n",
       "      <th>2</th>\n",
       "      <td>Aculus_100.jpg</td>\n",
       "      <td>(800, 600)</td>\n",
       "      <td>800</td>\n",
       "      <td>600</td>\n",
       "      <td>1.33</td>\n",
       "    </tr>\n",
       "    <tr>\n",
       "      <th>3</th>\n",
       "      <td>Aculus_101.jpg</td>\n",
       "      <td>(800, 600)</td>\n",
       "      <td>800</td>\n",
       "      <td>600</td>\n",
       "      <td>1.33</td>\n",
       "    </tr>\n",
       "    <tr>\n",
       "      <th>4</th>\n",
       "      <td>Aculus_102.jpg</td>\n",
       "      <td>(800, 600)</td>\n",
       "      <td>800</td>\n",
       "      <td>600</td>\n",
       "      <td>1.33</td>\n",
       "    </tr>\n",
       "  </tbody>\n",
       "</table>\n",
       "</div>"
      ],
      "text/plain": [
       "         FileName        Size  Width  Height  Aspect Ratio\n",
       "0    Aculus_1.jpg  (800, 600)    800     600          1.33\n",
       "1   Aculus_10.jpg  (800, 600)    800     600          1.33\n",
       "2  Aculus_100.jpg  (800, 600)    800     600          1.33\n",
       "3  Aculus_101.jpg  (800, 600)    800     600          1.33\n",
       "4  Aculus_102.jpg  (800, 600)    800     600          1.33"
      ]
     },
     "execution_count": 50,
     "metadata": {},
     "output_type": "execute_result"
    }
   ],
   "source": [
    "# Identifying Image Resolutions in The Training Dataset\n",
    "\n",
    "# Import Packages\n",
    "import pandas as pd\n",
    "import matplotlib.pyplot  as plt\n",
    "from PIL import Image\n",
    "from pathlib import Path\n",
    "import imagesize\n",
    "import numpy as np\n",
    "\n",
    "root = train_destination_folder\n",
    "# Get the Image Resolutions\n",
    "imgs = [img.name for img in Path(root).iterdir() if img.suffix == \".jpg\"]\n",
    "img_meta = {}\n",
    "for f in imgs: img_meta[str(f)] = imagesize.get(root+'\\\\'+f)\n",
    "\n",
    "# Convert it to Dataframe and compute aspect ratio\n",
    "img_meta_df = pd.DataFrame.from_dict([img_meta]).T.reset_index().set_axis(['FileName', 'Size'], axis='columns', inplace=False)\n",
    "img_meta_df[[\"Width\", \"Height\"]] = pd.DataFrame(img_meta_df[\"Size\"].tolist(), index=img_meta_df.index)\n",
    "img_meta_df[\"Aspect Ratio\"] = round(img_meta_df[\"Width\"] / img_meta_df[\"Height\"], 2)\n",
    "\n",
    "print(f'Total Nr of Images in the dataset: {len(img_meta_df)}')\n",
    "img_meta_df.head()"
   ]
  },
  {
   "cell_type": "code",
   "execution_count": 51,
   "id": "a9c081d9",
   "metadata": {
    "scrolled": true
   },
   "outputs": [
    {
     "data": {
      "text/plain": [
       "Text(0, 0.5, 'Height')"
      ]
     },
     "execution_count": 51,
     "metadata": {},
     "output_type": "execute_result"
    },
    {
     "data": {
      "image/png": "[encoded data removed]",
      "text/plain": [
       "<Figure size 576x576 with 1 Axes>"
      ]
     },
     "metadata": {
      "needs_background": "light"
     },
     "output_type": "display_data"
    }
   ],
   "source": [
    "# Visualize Image Resolutions\n",
    "\n",
    "fig = plt.figure(figsize=(8, 8))\n",
    "ax = fig.add_subplot(111)\n",
    "points = ax.scatter(img_meta_df.Width, img_meta_df.Height, color='blue', alpha=0.5, s=img_meta_df[\"Aspect Ratio\"]*100, picker=True)\n",
    "ax.set_title(\"Image Resolution For Training DataSet\")\n",
    "ax.set_xlabel(\"Width\", size=14)\n",
    "ax.set_ylabel(\"Height\", size=14)"
   ]
  },
  {
   "cell_type": "code",
   "execution_count": 52,
   "id": "6c1611a8",
   "metadata": {},
   "outputs": [
    {
     "name": "stdout",
     "output_type": "stream",
     "text": [
      "Total Nr of Images in the dataset: 680\n"
     ]
    },
    {
     "data": {
      "text/html": [
       "<div>\n",
       "<style scoped>\n",
       "    .dataframe tbody tr th:only-of-type {\n",
       "        vertical-align: middle;\n",
       "    }\n",
       "\n",
       "    .dataframe tbody tr th {\n",
       "        vertical-align: top;\n",
       "    }\n",
       "\n",
       "    .dataframe thead th {\n",
       "        text-align: right;\n",
       "    }\n",
       "</style>\n",
       "<table border=\"1\" class=\"dataframe\">\n",
       "  <thead>\n",
       "    <tr style=\"text-align: right;\">\n",
       "      <th></th>\n",
       "      <th>FileName</th>\n",
       "      <th>Size</th>\n",
       "      <th>Width</th>\n",
       "      <th>Height</th>\n",
       "      <th>Aspect Ratio</th>\n",
       "    </tr>\n",
       "  </thead>\n",
       "  <tbody>\n",
       "    <tr>\n",
       "      <th>0</th>\n",
       "      <td>Aculus_1.jpg</td>\n",
       "      <td>(800, 600)</td>\n",
       "      <td>800</td>\n",
       "      <td>600</td>\n",
       "      <td>1.33</td>\n",
       "    </tr>\n",
       "    <tr>\n",
       "      <th>1</th>\n",
       "      <td>Aculus_10.jpg</td>\n",
       "      <td>(800, 600)</td>\n",
       "      <td>800</td>\n",
       "      <td>600</td>\n",
       "      <td>1.33</td>\n",
       "    </tr>\n",
       "    <tr>\n",
       "      <th>2</th>\n",
       "      <td>Aculus_100.jpg</td>\n",
       "      <td>(800, 600)</td>\n",
       "      <td>800</td>\n",
       "      <td>600</td>\n",
       "      <td>1.33</td>\n",
       "    </tr>\n",
       "    <tr>\n",
       "      <th>3</th>\n",
       "      <td>Aculus_101.jpg</td>\n",
       "      <td>(800, 600)</td>\n",
       "      <td>800</td>\n",
       "      <td>600</td>\n",
       "      <td>1.33</td>\n",
       "    </tr>\n",
       "    <tr>\n",
       "      <th>4</th>\n",
       "      <td>Aculus_102.jpg</td>\n",
       "      <td>(800, 600)</td>\n",
       "      <td>800</td>\n",
       "      <td>600</td>\n",
       "      <td>1.33</td>\n",
       "    </tr>\n",
       "  </tbody>\n",
       "</table>\n",
       "</div>"
      ],
      "text/plain": [
       "         FileName        Size  Width  Height  Aspect Ratio\n",
       "0    Aculus_1.jpg  (800, 600)    800     600          1.33\n",
       "1   Aculus_10.jpg  (800, 600)    800     600          1.33\n",
       "2  Aculus_100.jpg  (800, 600)    800     600          1.33\n",
       "3  Aculus_101.jpg  (800, 600)    800     600          1.33\n",
       "4  Aculus_102.jpg  (800, 600)    800     600          1.33"
      ]
     },
     "execution_count": 52,
     "metadata": {},
     "output_type": "execute_result"
    }
   ],
   "source": [
    "# Identifying Image Resolutions in The Testing Dataset\n",
    "\n",
    "# Import Packages\n",
    "import pandas as pd\n",
    "import matplotlib.pyplot  as plt\n",
    "from PIL import Image\n",
    "from pathlib import Path\n",
    "import imagesize\n",
    "import numpy as np\n",
    "\n",
    "root = test_destination_folder\n",
    "# Get the Image Resolutions\n",
    "imgs = [img.name for img in Path(root).iterdir() if img.suffix == \".jpg\"]\n",
    "img_meta = {}\n",
    "for f in imgs: img_meta[str(f)] = imagesize.get(root+'\\\\'+f)\n",
    "\n",
    "# Convert it to Dataframe and compute aspect ratio\n",
    "img_meta_df = pd.DataFrame.from_dict([img_meta]).T.reset_index().set_axis(['FileName', 'Size'], axis='columns', inplace=False)\n",
    "img_meta_df[[\"Width\", \"Height\"]] = pd.DataFrame(img_meta_df[\"Size\"].tolist(), index=img_meta_df.index)\n",
    "img_meta_df[\"Aspect Ratio\"] = round(img_meta_df[\"Width\"] / img_meta_df[\"Height\"], 2)\n",
    "\n",
    "print(f'Total Nr of Images in the dataset: {len(img_meta_df)}')\n",
    "img_meta_df.head()"
   ]
  },
  {
   "cell_type": "code",
   "execution_count": 53,
   "id": "cad52978",
   "metadata": {},
   "outputs": [
    {
     "data": {
      "text/plain": [
       "Text(0, 0.5, 'Height')"
      ]
     },
     "execution_count": 53,
     "metadata": {},
     "output_type": "execute_result"
    },
    {
     "data": {
      "image/png": "[encoded data removed]",
      "text/plain": [
       "<Figure size 576x576 with 1 Axes>"
      ]
     },
     "metadata": {
      "needs_background": "light"
     },
     "output_type": "display_data"
    }
   ],
   "source": [
    "# Visualize Image Resolutions\n",
    "\n",
    "fig = plt.figure(figsize=(8, 8))\n",
    "ax = fig.add_subplot(111)\n",
    "points = ax.scatter(img_meta_df.Width, img_meta_df.Height, color='blue', alpha=0.5, s=img_meta_df[\"Aspect Ratio\"]*100, picker=True)\n",
    "ax.set_title(\"Image Resolution For Test DataSet\")\n",
    "ax.set_xlabel(\"Width\", size=14)\n",
    "ax.set_ylabel(\"Height\", size=14)"
   ]
  },
  {
   "cell_type": "code",
   "execution_count": 54,
   "id": "20968217",
   "metadata": {},
   "outputs": [],
   "source": [
    "# Using function to return image output\n",
    "\n",
    "def show_images(X, y, idx):\n",
    "    img = X[idx]\n",
    "    img = img.reshape((rows, cols, channels))\n",
    "    plt.figure(figsize=(4,2))\n",
    "    plt.imshow(img)\n",
    "    plt.title(f\"This is a {classes[y[idx,0]]}\")\n",
    "    plt.show()"
   ]
  },
  {
   "cell_type": "code",
   "execution_count": 55,
   "id": "77d8d096",
   "metadata": {
    "scrolled": false
   },
   "outputs": [
    {
     "data": {
      "image/png": "[encoded data removed]",
      "text/plain": [
       "<Figure size 288x144 with 1 Axes>"
      ]
     },
     "metadata": {
      "needs_background": "light"
     },
     "output_type": "display_data"
    }
   ],
   "source": [
    "# Checking a sample of Image at index 20\n",
    "\n",
    "show_images(X_train.T, y_train.T, 20)"
   ]
  },
  {
   "cell_type": "code",
   "execution_count": 56,
   "id": "b8830e9f",
   "metadata": {},
   "outputs": [],
   "source": [
    "import sys\n",
    "from matplotlib import pyplot\n",
    "from keras.utils import to_categorical\n",
    "from keras.models import Sequential\n",
    "from keras.layers import Conv2D\n",
    "from keras.layers import MaxPooling2D\n",
    "from keras.layers import Dense\n",
    "from keras.layers import Flatten\n",
    "from keras.optimizers import SGD\n",
    "from keras.preprocessing.image import ImageDataGenerator\n",
    "from keras.layers import Dropout"
   ]
  },
  {
   "cell_type": "code",
   "execution_count": 171,
   "id": "ab153d1f",
   "metadata": {},
   "outputs": [],
   "source": [
    "# Create a function to output the evaluation metrics of the model: accuracy, precision, recall, ROC \n",
    "\n",
    "def evaluate_model(model, data):\n",
    "    (loss, accuracy, precision, recall, auc) = model.evaluate(data, steps=len(data), verbose=1)\n",
    "    accuracy = '> %.3f' % (accuracy * 100.0)\n",
    "    precision = '> %.3f' % (precision * 100.0)\n",
    "    recall = '> %.3f' % (recall * 100.0)\n",
    "    auc = '> %.3f' % (auc * 100.0)\n",
    "\n",
    "    print(\"..........................................................................\")\n",
    "    print(\"Loss:  \", loss)\n",
    "    print(\"Accuracy:  \", accuracy)\n",
    "    print(\"Precision: \", precision)\n",
    "    print(\"Recall:    \", recall)\n",
    "    print(\"ROC:       \", auc)"
   ]
  },
  {
   "cell_type": "markdown",
   "id": "d7c1a923",
   "metadata": {},
   "source": [
    "# 5) Building Predictive Models"
   ]
  },
  {
   "cell_type": "markdown",
   "id": "6dab4c58",
   "metadata": {},
   "source": [
    "## 5.1) Building One-Block VGG Model"
   ]
  },
  {
   "cell_type": "code",
   "execution_count": 83,
   "id": "110b882e",
   "metadata": {},
   "outputs": [],
   "source": [
    "# Building Layers for the Model and putting it in a python function\n",
    "# We have set the activation function in our final layer as softmax since it is a multi-class classification problem\n",
    "\n",
    "def define_model():\n",
    "    model = Sequential()\n",
    "    model.add(Conv2D(32, (3, 3), activation='relu', kernel_initializer='he_uniform', padding='same', input_shape=(50, 50, 3)))\n",
    "    model.add(MaxPooling2D((2, 2)))\n",
    "    model.add(Dropout(0.2))\n",
    "    model.add(Flatten())\n",
    "    model.add(Dense(128, activation='relu', kernel_initializer='he_uniform'))\n",
    "    #model.add(Dropout(0.5))\n",
    "    model.add(Dense(3, activation='softmax'))\n",
    "    # compile model\n",
    "    opt = SGD(learning_rate=0.001, momentum=0.9)\n",
    "    model.compile(optimizer=opt, loss='binary_crossentropy', metrics=['accuracy', \"Precision\", 'Recall', 'AUC'])\n",
    "    return model"
   ]
  },
  {
   "cell_type": "code",
   "execution_count": 84,
   "id": "68673270",
   "metadata": {},
   "outputs": [],
   "source": [
    "# Creating an object model by calling function with above configurations of the model\n",
    "model = define_model()\n",
    "\n",
    "# Scaling the images to have values between 0 and 1\n",
    "datagen = ImageDataGenerator(rescale=1.0/255.0)"
   ]
  },
  {
   "cell_type": "code",
   "execution_count": 85,
   "id": "c9419bbc",
   "metadata": {},
   "outputs": [
    {
     "name": "stdout",
     "output_type": "stream",
     "text": [
      "Model: \"sequential_5\"\n",
      "_________________________________________________________________\n",
      " Layer (type)                Output Shape              Param #   \n",
      "=================================================================\n",
      " conv2d_5 (Conv2D)           (None, 50, 50, 32)        896       \n",
      "                                                                 \n",
      " max_pooling2d_5 (MaxPooling  (None, 25, 25, 32)       0         \n",
      " 2D)                                                             \n",
      "                                                                 \n",
      " dropout_5 (Dropout)         (None, 25, 25, 32)        0         \n",
      "                                                                 \n",
      " flatten_5 (Flatten)         (None, 20000)             0         \n",
      "                                                                 \n",
      " dense_10 (Dense)            (None, 128)               2560128   \n",
      "                                                                 \n",
      " dense_11 (Dense)            (None, 3)                 387       \n",
      "                                                                 \n",
      "=================================================================\n",
      "Total params: 2,561,411\n",
      "Trainable params: 2,561,411\n",
      "Non-trainable params: 0\n",
      "_________________________________________________________________\n"
     ]
    }
   ],
   "source": [
    "# Displaying the configurations of the model \n",
    "\n",
    "model.summary()"
   ]
  },
  {
   "cell_type": "code",
   "execution_count": 86,
   "id": "c28d8731",
   "metadata": {},
   "outputs": [
    {
     "name": "stdout",
     "output_type": "stream",
     "text": [
      "Found 2720 images belonging to 3 classes.\n",
      "Found 680 images belonging to 3 classes.\n"
     ]
    }
   ],
   "source": [
    "# Preparing Training and Testing Sets by using flow_from_directory package\n",
    "# The package allows to read image files from the folder directory\n",
    "# Images are labelled according to their folder names\n",
    "\n",
    "train_it = datagen.flow_from_directory('C:\\\\Users\\\\akshay gera\\\\ML Theory and Practise Lab\\\\Project 2\\\\Project 2\\\\Olives Dataset\\\\Train', \n",
    "                                       class_mode='categorical', \n",
    "                                       batch_size=64, \n",
    "                                       target_size=(50, 50))\n",
    "\n",
    "test_it = datagen.flow_from_directory('C:\\\\Users\\\\akshay gera\\\\ML Theory and Practise Lab\\\\Project 2\\\\Project 2\\\\Olives Dataset\\\\test',\n",
    "                                        class_mode='categorical', \n",
    "                                        batch_size=64, \n",
    "                                        target_size=(50, 50))"
   ]
  },
  {
   "cell_type": "code",
   "execution_count": 97,
   "id": "3205f9ca",
   "metadata": {
    "scrolled": true
   },
   "outputs": [
    {
     "name": "stderr",
     "output_type": "stream",
     "text": [
      "C:\\Users\\AKSHAY~1\\AppData\\Local\\Temp/ipykernel_1888/1833388515.py:3: UserWarning: `Model.fit_generator` is deprecated and will be removed in a future version. Please use `Model.fit`, which supports generators.\n",
      "  history = model.fit_generator(train_it,\n"
     ]
    },
    {
     "name": "stdout",
     "output_type": "stream",
     "text": [
      "Epoch 1/20\n",
      "43/43 [==============================] - 59s 1s/step - loss: 0.5968 - accuracy: 0.5162 - precision: 0.5690 - recall: 0.3456 - auc: 0.6797 - val_loss: 0.6439 - val_accuracy: 0.3779 - val_precision: 0.4549 - val_recall: 0.1559 - val_auc: 0.5316\n",
      "Epoch 2/20\n",
      "43/43 [==============================] - 58s 1s/step - loss: 0.5781 - accuracy: 0.5386 - precision: 0.6012 - recall: 0.4007 - auc: 0.7123 - val_loss: 0.6601 - val_accuracy: 0.4132 - val_precision: 0.4229 - val_recall: 0.3265 - val_auc: 0.5577\n",
      "Epoch 3/20\n",
      "43/43 [==============================] - 58s 1s/step - loss: 0.5664 - accuracy: 0.5592 - precision: 0.6115 - recall: 0.4375 - auc: 0.7305 - val_loss: 0.6514 - val_accuracy: 0.3824 - val_precision: 0.4677 - val_recall: 0.2132 - val_auc: 0.5346\n",
      "Epoch 4/20\n",
      "43/43 [==============================] - 58s 1s/step - loss: 0.5637 - accuracy: 0.5515 - precision: 0.5976 - recall: 0.4368 - auc: 0.7316 - val_loss: 0.6449 - val_accuracy: 0.3765 - val_precision: 0.4667 - val_recall: 0.1956 - val_auc: 0.5455\n",
      "Epoch 5/20\n",
      "43/43 [==============================] - 59s 1s/step - loss: 0.5579 - accuracy: 0.5750 - precision: 0.6123 - recall: 0.4669 - auc: 0.7382 - val_loss: 0.6382 - val_accuracy: 0.4441 - val_precision: 0.4966 - val_recall: 0.3265 - val_auc: 0.5876\n",
      "Epoch 6/20\n",
      "43/43 [==============================] - 59s 1s/step - loss: 0.5470 - accuracy: 0.5739 - precision: 0.6204 - recall: 0.4812 - auc: 0.7531 - val_loss: 0.6625 - val_accuracy: 0.4074 - val_precision: 0.4272 - val_recall: 0.3838 - val_auc: 0.5912\n",
      "Epoch 7/20\n",
      "43/43 [==============================] - 59s 1s/step - loss: 0.5477 - accuracy: 0.5706 - precision: 0.6107 - recall: 0.4838 - auc: 0.7508 - val_loss: 0.6339 - val_accuracy: 0.3971 - val_precision: 0.4983 - val_recall: 0.2118 - val_auc: 0.5802\n",
      "Epoch 8/20\n",
      "43/43 [==============================] - 58s 1s/step - loss: 0.5452 - accuracy: 0.5746 - precision: 0.6135 - recall: 0.4838 - auc: 0.7529 - val_loss: 0.6437 - val_accuracy: 0.4471 - val_precision: 0.4725 - val_recall: 0.3544 - val_auc: 0.6005\n",
      "Epoch 9/20\n",
      "43/43 [==============================] - 58s 1s/step - loss: 0.5483 - accuracy: 0.5651 - precision: 0.6079 - recall: 0.4765 - auc: 0.7457 - val_loss: 0.6438 - val_accuracy: 0.4574 - val_precision: 0.4951 - val_recall: 0.3735 - val_auc: 0.5985\n",
      "Epoch 10/20\n",
      "43/43 [==============================] - 58s 1s/step - loss: 0.5258 - accuracy: 0.5985 - precision: 0.6503 - recall: 0.5195 - auc: 0.7789 - val_loss: 0.6306 - val_accuracy: 0.4515 - val_precision: 0.4990 - val_recall: 0.3618 - val_auc: 0.6155\n",
      "Epoch 11/20\n",
      "43/43 [==============================] - 58s 1s/step - loss: 0.5187 - accuracy: 0.6066 - precision: 0.6581 - recall: 0.5250 - auc: 0.7870 - val_loss: 0.6349 - val_accuracy: 0.4500 - val_precision: 0.4907 - val_recall: 0.3868 - val_auc: 0.6221\n",
      "Epoch 12/20\n",
      "43/43 [==============================] - 58s 1s/step - loss: 0.5175 - accuracy: 0.6158 - precision: 0.6585 - recall: 0.5368 - auc: 0.7876 - val_loss: 0.6168 - val_accuracy: 0.4559 - val_precision: 0.5170 - val_recall: 0.3809 - val_auc: 0.6425\n",
      "Epoch 13/20\n",
      "43/43 [==============================] - 58s 1s/step - loss: 0.5242 - accuracy: 0.5960 - precision: 0.6399 - recall: 0.5246 - auc: 0.7771 - val_loss: 0.6026 - val_accuracy: 0.4897 - val_precision: 0.5570 - val_recall: 0.3235 - val_auc: 0.6665\n",
      "Epoch 14/20\n",
      "43/43 [==============================] - 58s 1s/step - loss: 0.5076 - accuracy: 0.6147 - precision: 0.6556 - recall: 0.5423 - auc: 0.7987 - val_loss: 0.6334 - val_accuracy: 0.4662 - val_precision: 0.4902 - val_recall: 0.4029 - val_auc: 0.6318\n",
      "Epoch 15/20\n",
      "43/43 [==============================] - 58s 1s/step - loss: 0.5067 - accuracy: 0.6243 - precision: 0.6664 - recall: 0.5544 - auc: 0.7997 - val_loss: 0.6176 - val_accuracy: 0.4500 - val_precision: 0.4991 - val_recall: 0.3971 - val_auc: 0.6432\n",
      "Epoch 16/20\n",
      "43/43 [==============================] - 58s 1s/step - loss: 0.5059 - accuracy: 0.6180 - precision: 0.6635 - recall: 0.5588 - auc: 0.7987 - val_loss: 0.6252 - val_accuracy: 0.4485 - val_precision: 0.4511 - val_recall: 0.2779 - val_auc: 0.6227\n",
      "Epoch 17/20\n",
      "43/43 [==============================] - 58s 1s/step - loss: 0.5049 - accuracy: 0.6221 - precision: 0.6649 - recall: 0.5449 - auc: 0.7995 - val_loss: 0.6269 - val_accuracy: 0.4206 - val_precision: 0.4265 - val_recall: 0.3412 - val_auc: 0.6286\n",
      "Epoch 18/20\n",
      "43/43 [==============================] - 58s 1s/step - loss: 0.4960 - accuracy: 0.6250 - precision: 0.6692 - recall: 0.5540 - auc: 0.8091 - val_loss: 0.6014 - val_accuracy: 0.4618 - val_precision: 0.4962 - val_recall: 0.3882 - val_auc: 0.6697\n",
      "Epoch 19/20\n",
      "43/43 [==============================] - 54s 1s/step - loss: 0.4903 - accuracy: 0.6360 - precision: 0.6797 - recall: 0.5772 - auc: 0.8134 - val_loss: 0.5897 - val_accuracy: 0.5059 - val_precision: 0.5689 - val_recall: 0.3824 - val_auc: 0.6906\n",
      "Epoch 20/20\n",
      "43/43 [==============================] - 59s 1s/step - loss: 0.4830 - accuracy: 0.6507 - precision: 0.6974 - recall: 0.5864 - auc: 0.8219 - val_loss: 0.5917 - val_accuracy: 0.4853 - val_precision: 0.5539 - val_recall: 0.3926 - val_auc: 0.6836\n"
     ]
    }
   ],
   "source": [
    "# Fitting the  model and running it for 20 epochs to get results without spending too much time on computation\n",
    "\n",
    "history = model.fit_generator(train_it, \n",
    "                              steps_per_epoch=len(train_it), \n",
    "                              validation_data=test_it, \n",
    "                              validation_steps=len(test_it), \n",
    "                              epochs=20,\n",
    "                              verbose=1)"
   ]
  },
  {
   "cell_type": "code",
   "execution_count": 164,
   "id": "195298eb",
   "metadata": {},
   "outputs": [
    {
     "name": "stdout",
     "output_type": "stream",
     "text": [
      "11/11 [==============================] - 11s 983ms/step - loss: 0.5917 - accuracy: 0.4853 - precision: 0.5539 - recall: 0.3926 - auc: 0.6836\n",
      "..........................................................................\n",
      "Accuracy:   > 48.529\n",
      "Precision:  > 55.394\n",
      "Recall:     > 39.265\n",
      "ROC:        > 68.358\n"
     ]
    }
   ],
   "source": [
    "# Evaluating Model Performance\n",
    "\n",
    "evaluate_model(model, test_it)"
   ]
  },
  {
   "cell_type": "code",
   "execution_count": 105,
   "id": "e8eac6bf",
   "metadata": {},
   "outputs": [],
   "source": [
    "# Creating a function to plot the training and validation accuracy and cross entropy loss for each epoch\n",
    "\n",
    "def summarize_diagnostics(history):\n",
    "    # plot loss\n",
    "    pyplot.subplot(211)\n",
    "    pyplot.title('Cross Entropy Loss')\n",
    "    pyplot.plot(history.history['loss'], color='blue', label='train')\n",
    "    pyplot.plot(history.history['val_loss'], color='orange', label='test')\n",
    "    plt.legend()\n",
    "    # plot accuracy\n",
    "    pyplot.subplot(212)\n",
    "    pyplot.title('Classification Accuracy')\n",
    "    pyplot.plot(history.history['accuracy'], color='blue', label='train')\n",
    "    pyplot.plot(history.history['val_accuracy'], color='orange', label='test')\n",
    "    plt.legend()\n",
    "    plt.show()"
   ]
  },
  {
   "cell_type": "code",
   "execution_count": 106,
   "id": "196eebab",
   "metadata": {},
   "outputs": [
    {
     "data": {
      "image/png": "[encoded data removed]",
      "text/plain": [
       "<Figure size 720x1080 with 2 Axes>"
      ]
     },
     "metadata": {
      "needs_background": "light"
     },
     "output_type": "display_data"
    }
   ],
   "source": [
    "# Calling the function for plotting the accuracy and loss for each epoch\n",
    "\n",
    "plt.figure(figsize=(10,15))\n",
    "summarize_diagnostics(history)"
   ]
  },
  {
   "cell_type": "markdown",
   "id": "6ac9162e",
   "metadata": {},
   "source": [
    "## 5.2) Two-Block VGG Model"
   ]
  },
  {
   "cell_type": "code",
   "execution_count": 131,
   "id": "c8104660",
   "metadata": {},
   "outputs": [],
   "source": [
    "# Building Layers for the Model\n",
    "# We have set the activation function in our final layer as softmax since it is a multi-class classification problem\n",
    "# In this we have added a second block of Con2D with 64 filters to improve the performance of the model\n",
    "\n",
    "\n",
    "def define_model():\n",
    "    model = Sequential()\n",
    "    model.add(Conv2D(32, (3, 3), activation='relu', kernel_initializer='he_uniform', padding='same', input_shape=(50, 50, 3)))\n",
    "    model.add(MaxPooling2D((2, 2)))\n",
    "    model.add(Dropout(0.2))\n",
    "    model.add(Conv2D(64, (3, 3), activation='relu', kernel_initializer='he_uniform', padding='same'))\n",
    "    model.add(MaxPooling2D((2, 2)))\n",
    "    model.add(Dropout(0.2))\n",
    "    model.add(Flatten())\n",
    "    model.add(Dense(128, activation='relu', kernel_initializer='he_uniform'))\n",
    "    model.add(Dropout(0.5))\n",
    "    model.add(Dense(3, activation='softmax'))\n",
    "    # compile model\n",
    "    opt = SGD(learning_rate=0.001, momentum=0.9)\n",
    "    model.compile(optimizer=opt, loss='binary_crossentropy', metrics=['accuracy', \"Precision\", 'Recall', 'AUC'])\n",
    "    return model"
   ]
  },
  {
   "cell_type": "code",
   "execution_count": 132,
   "id": "125dbeab",
   "metadata": {},
   "outputs": [],
   "source": [
    "# Creating an object model2 by calling function with above configurations of the model\n",
    "model2 = define_model()\n",
    "\n",
    "# Scaling the images to have values between 0 and 1\n",
    "datagen = ImageDataGenerator(rescale=1.0/255.0)"
   ]
  },
  {
   "cell_type": "code",
   "execution_count": 133,
   "id": "90c860cb",
   "metadata": {},
   "outputs": [
    {
     "name": "stdout",
     "output_type": "stream",
     "text": [
      "Found 2720 images belonging to 3 classes.\n",
      "Found 680 images belonging to 3 classes.\n"
     ]
    }
   ],
   "source": [
    "# Preparing Training and Testing Sets by using flow_from_directory package\n",
    "# The package allows to read image files from the folder directory\n",
    "# Images are labelled according to their folder names\n",
    "\n",
    "train_it = datagen.flow_from_directory('C:\\\\Users\\\\akshay gera\\\\ML Theory and Practise Lab\\\\Project 2\\\\Project 2\\\\Olives Dataset\\\\Train', \n",
    "                                       class_mode='categorical', \n",
    "                                       batch_size=64, \n",
    "                                       target_size=(50, 50))\n",
    "\n",
    "test_it = datagen.flow_from_directory('C:\\\\Users\\\\akshay gera\\\\ML Theory and Practise Lab\\\\Project 2\\\\Project 2\\\\Olives Dataset\\\\test',\n",
    "                                        class_mode='categorical', \n",
    "                                        batch_size=64, \n",
    "                                        target_size=(50, 50))"
   ]
  },
  {
   "cell_type": "code",
   "execution_count": 134,
   "id": "5d273927",
   "metadata": {
    "scrolled": true
   },
   "outputs": [
    {
     "name": "stdout",
     "output_type": "stream",
     "text": [
      "Model: \"sequential_11\"\n",
      "_________________________________________________________________\n",
      " Layer (type)                Output Shape              Param #   \n",
      "=================================================================\n",
      " conv2d_16 (Conv2D)          (None, 50, 50, 32)        896       \n",
      "                                                                 \n",
      " max_pooling2d_16 (MaxPoolin  (None, 25, 25, 32)       0         \n",
      " g2D)                                                            \n",
      "                                                                 \n",
      " dropout_12 (Dropout)        (None, 25, 25, 32)        0         \n",
      "                                                                 \n",
      " conv2d_17 (Conv2D)          (None, 25, 25, 64)        18496     \n",
      "                                                                 \n",
      " max_pooling2d_17 (MaxPoolin  (None, 12, 12, 64)       0         \n",
      " g2D)                                                            \n",
      "                                                                 \n",
      " dropout_13 (Dropout)        (None, 12, 12, 64)        0         \n",
      "                                                                 \n",
      " flatten_11 (Flatten)        (None, 9216)              0         \n",
      "                                                                 \n",
      " dense_22 (Dense)            (None, 128)               1179776   \n",
      "                                                                 \n",
      " dropout_14 (Dropout)        (None, 128)               0         \n",
      "                                                                 \n",
      " dense_23 (Dense)            (None, 3)                 387       \n",
      "                                                                 \n",
      "=================================================================\n",
      "Total params: 1,199,555\n",
      "Trainable params: 1,199,555\n",
      "Non-trainable params: 0\n",
      "_________________________________________________________________\n"
     ]
    }
   ],
   "source": [
    "# Displaying the configurations of the model \n",
    "\n",
    "model2.summary()"
   ]
  },
  {
   "cell_type": "code",
   "execution_count": 135,
   "id": "0b31c5aa",
   "metadata": {
    "scrolled": true
   },
   "outputs": [
    {
     "name": "stderr",
     "output_type": "stream",
     "text": [
      "C:\\Users\\AKSHAY~1\\AppData\\Local\\Temp/ipykernel_1888/3260147646.py:3: UserWarning: `Model.fit_generator` is deprecated and will be removed in a future version. Please use `Model.fit`, which supports generators.\n",
      "  history2 = model2.fit_generator(train_it,\n"
     ]
    },
    {
     "name": "stdout",
     "output_type": "stream",
     "text": [
      "Epoch 1/20\n",
      "43/43 [==============================] - 67s 1s/step - loss: 0.7163 - accuracy: 0.4132 - precision: 0.4319 - recall: 0.2691 - auc: 0.5753 - val_loss: 0.6576 - val_accuracy: 0.4044 - val_precision: 0.0000e+00 - val_recall: 0.0000e+00 - val_auc: 0.5533\n",
      "Epoch 2/20\n",
      "43/43 [==============================] - 62s 1s/step - loss: 0.6350 - accuracy: 0.4265 - precision: 0.4667 - recall: 0.1960 - auc: 0.5979 - val_loss: 0.6539 - val_accuracy: 0.3838 - val_precision: 0.0000e+00 - val_recall: 0.0000e+00 - val_auc: 0.5488\n",
      "Epoch 3/20\n",
      "43/43 [==============================] - 61s 1s/step - loss: 0.6309 - accuracy: 0.4426 - precision: 0.4866 - recall: 0.2206 - auc: 0.6078 - val_loss: 0.6520 - val_accuracy: 0.3824 - val_precision: 0.0000e+00 - val_recall: 0.0000e+00 - val_auc: 0.5391\n",
      "Epoch 4/20\n",
      "43/43 [==============================] - 62s 1s/step - loss: 0.6293 - accuracy: 0.4430 - precision: 0.4698 - recall: 0.2088 - auc: 0.6141 - val_loss: 0.6525 - val_accuracy: 0.3824 - val_precision: 0.0000e+00 - val_recall: 0.0000e+00 - val_auc: 0.5435\n",
      "Epoch 5/20\n",
      "43/43 [==============================] - 61s 1s/step - loss: 0.6284 - accuracy: 0.4430 - precision: 0.4919 - recall: 0.1890 - auc: 0.6211 - val_loss: 0.6490 - val_accuracy: 0.3868 - val_precision: 0.4776 - val_recall: 0.0471 - val_auc: 0.5407\n",
      "Epoch 6/20\n",
      "43/43 [==============================] - 62s 1s/step - loss: 0.6209 - accuracy: 0.4625 - precision: 0.4969 - recall: 0.2375 - auc: 0.6341 - val_loss: 0.6472 - val_accuracy: 0.3853 - val_precision: 0.0000e+00 - val_recall: 0.0000e+00 - val_auc: 0.5435\n",
      "Epoch 7/20\n",
      "43/43 [==============================] - 61s 1s/step - loss: 0.6152 - accuracy: 0.4794 - precision: 0.5229 - recall: 0.2607 - auc: 0.6457 - val_loss: 0.6489 - val_accuracy: 0.3868 - val_precision: 0.6333 - val_recall: 0.0279 - val_auc: 0.5493\n",
      "Epoch 8/20\n",
      "43/43 [==============================] - 61s 1s/step - loss: 0.6104 - accuracy: 0.4724 - precision: 0.5311 - recall: 0.2860 - auc: 0.6547 - val_loss: 0.6486 - val_accuracy: 0.3853 - val_precision: 0.1429 - val_recall: 0.0015 - val_auc: 0.5442\n",
      "Epoch 9/20\n",
      "43/43 [==============================] - 62s 1s/step - loss: 0.6084 - accuracy: 0.4809 - precision: 0.5513 - recall: 0.2824 - auc: 0.6613 - val_loss: 0.6424 - val_accuracy: 0.3897 - val_precision: 0.5985 - val_recall: 0.1162 - val_auc: 0.5556\n",
      "Epoch 10/20\n",
      "43/43 [==============================] - 62s 1s/step - loss: 0.6060 - accuracy: 0.4926 - precision: 0.5429 - recall: 0.3140 - auc: 0.6645 - val_loss: 0.6440 - val_accuracy: 0.4162 - val_precision: 0.1111 - val_recall: 0.0015 - val_auc: 0.5580\n",
      "Epoch 11/20\n",
      "43/43 [==============================] - 61s 1s/step - loss: 0.5951 - accuracy: 0.5081 - precision: 0.5646 - recall: 0.3213 - auc: 0.6880 - val_loss: 0.6397 - val_accuracy: 0.4044 - val_precision: 0.6438 - val_recall: 0.0691 - val_auc: 0.5569\n",
      "Epoch 12/20\n",
      "43/43 [==============================] - 61s 1s/step - loss: 0.5971 - accuracy: 0.5007 - precision: 0.5694 - recall: 0.3213 - auc: 0.6820 - val_loss: 0.6435 - val_accuracy: 0.3971 - val_precision: 0.5226 - val_recall: 0.2206 - val_auc: 0.5626\n",
      "Epoch 13/20\n",
      "43/43 [==============================] - 61s 1s/step - loss: 0.5957 - accuracy: 0.5176 - precision: 0.5717 - recall: 0.3636 - auc: 0.6880 - val_loss: 0.6431 - val_accuracy: 0.4279 - val_precision: 0.6667 - val_recall: 0.0265 - val_auc: 0.5858\n",
      "Epoch 14/20\n",
      "43/43 [==============================] - 61s 1s/step - loss: 0.5822 - accuracy: 0.5232 - precision: 0.5846 - recall: 0.3787 - auc: 0.7037 - val_loss: 0.6392 - val_accuracy: 0.4029 - val_precision: 0.6009 - val_recall: 0.1971 - val_auc: 0.5766\n",
      "Epoch 15/20\n",
      "43/43 [==============================] - 62s 1s/step - loss: 0.5835 - accuracy: 0.5261 - precision: 0.5886 - recall: 0.3761 - auc: 0.7061 - val_loss: 0.6363 - val_accuracy: 0.4074 - val_precision: 0.5532 - val_recall: 0.2294 - val_auc: 0.5888\n",
      "Epoch 16/20\n",
      "43/43 [==============================] - 51s 1s/step - loss: 0.5777 - accuracy: 0.5261 - precision: 0.6090 - recall: 0.3923 - auc: 0.7126 - val_loss: 0.6354 - val_accuracy: 0.4338 - val_precision: 0.6492 - val_recall: 0.1824 - val_auc: 0.5876\n",
      "Epoch 17/20\n",
      "43/43 [==============================] - 60s 1s/step - loss: 0.5738 - accuracy: 0.5357 - precision: 0.5947 - recall: 0.3879 - auc: 0.7166 - val_loss: 0.6333 - val_accuracy: 0.4397 - val_precision: 0.6406 - val_recall: 0.0603 - val_auc: 0.6036\n",
      "Epoch 18/20\n",
      "43/43 [==============================] - 61s 1s/step - loss: 0.5697 - accuracy: 0.5346 - precision: 0.6013 - recall: 0.4015 - auc: 0.7215 - val_loss: 0.6390 - val_accuracy: 0.4279 - val_precision: 0.7098 - val_recall: 0.2015 - val_auc: 0.6015\n",
      "Epoch 19/20\n",
      "43/43 [==============================] - 61s 1s/step - loss: 0.5665 - accuracy: 0.5471 - precision: 0.6124 - recall: 0.4107 - auc: 0.7305 - val_loss: 0.6373 - val_accuracy: 0.3868 - val_precision: 0.5179 - val_recall: 0.2971 - val_auc: 0.6049\n",
      "Epoch 20/20\n",
      "43/43 [==============================] - 61s 1s/step - loss: 0.5611 - accuracy: 0.5390 - precision: 0.6175 - recall: 0.4173 - auc: 0.7331 - val_loss: 0.6339 - val_accuracy: 0.3985 - val_precision: 0.4988 - val_recall: 0.3132 - val_auc: 0.6082\n"
     ]
    }
   ],
   "source": [
    "# fitting the  model and running it for 20 epochs\n",
    "\n",
    "history2 = model2.fit_generator(train_it, \n",
    "                              steps_per_epoch=len(train_it), \n",
    "                              validation_data=test_it, \n",
    "                              validation_steps=len(test_it), \n",
    "                              epochs=20,\n",
    "                              verbose=1)"
   ]
  },
  {
   "cell_type": "code",
   "execution_count": 165,
   "id": "85f3add8",
   "metadata": {},
   "outputs": [
    {
     "name": "stdout",
     "output_type": "stream",
     "text": [
      "11/11 [==============================] - 11s 965ms/step - loss: 0.6339 - accuracy: 0.3985 - precision: 0.4988 - recall: 0.3132 - auc: 0.6082\n",
      "..........................................................................\n",
      "Accuracy:   > 39.853\n",
      "Precision:  > 49.883\n",
      "Recall:     > 31.324\n",
      "ROC:        > 60.817\n"
     ]
    }
   ],
   "source": [
    "# Evaluating Model Performance\n",
    "\n",
    "evaluate_model(model2, test_it)"
   ]
  },
  {
   "cell_type": "code",
   "execution_count": 137,
   "id": "9bc956d1",
   "metadata": {
    "scrolled": false
   },
   "outputs": [
    {
     "data": {
      "image/png": "[encoded data removed]",
      "text/plain": [
       "<Figure size 720x1080 with 2 Axes>"
      ]
     },
     "metadata": {
      "needs_background": "light"
     },
     "output_type": "display_data"
    }
   ],
   "source": [
    "# Calling the function for plotting the accuracy and loss for each epoch\n",
    "\n",
    "plt.figure(figsize=(10,15))\n",
    "summarize_diagnostics(history2)"
   ]
  },
  {
   "cell_type": "markdown",
   "id": "5ee44249",
   "metadata": {},
   "source": [
    "## 5.3) Building Three-Block VGG Model"
   ]
  },
  {
   "cell_type": "code",
   "execution_count": 161,
   "id": "ae759b56",
   "metadata": {},
   "outputs": [],
   "source": [
    "# Building the layers of the three-block VGG model\n",
    "# We have added a third layer of Con2D with 128 filters for further model improvement\n",
    "\n",
    "def define_model():\n",
    "    model = Sequential()\n",
    "    model.add(Conv2D(32, (3, 3), activation='relu', kernel_initializer='he_uniform', padding='same', input_shape=(50, 50, 3)))\n",
    "    model.add(MaxPooling2D((2, 2)))\n",
    "    model.add(Conv2D(64, (3, 3), activation='relu', kernel_initializer='he_uniform', padding='same'))\n",
    "    model.add(MaxPooling2D((2, 2)))\n",
    "    model.add(Conv2D(128, (3, 3), activation='relu', kernel_initializer='he_uniform', padding='same'))\n",
    "    model.add(MaxPooling2D((2, 2)))\n",
    "    model.add(Flatten())\n",
    "    model.add(Dense(128, activation='relu', kernel_initializer='he_uniform'))\n",
    "    model.add(Dense(3, activation='softmax'))\n",
    "    # compile model\n",
    "    opt = SGD(lr=0.1, momentum=0.9)\n",
    "    model.compile(optimizer=opt, loss='binary_crossentropy', metrics=['accuracy', \"Precision\", 'Recall', 'AUC'])\n",
    "    return model"
   ]
  },
  {
   "cell_type": "code",
   "execution_count": 162,
   "id": "eac4ef2e",
   "metadata": {},
   "outputs": [],
   "source": [
    "# Creating an object model3 by calling function with above configurations of the model\n",
    "model3 = define_model()\n",
    "\n",
    "# Scaling the images to have values between 0 and 1\n",
    "datagen = ImageDataGenerator(rescale=1.0/255.0)"
   ]
  },
  {
   "cell_type": "code",
   "execution_count": 156,
   "id": "127a3f59",
   "metadata": {},
   "outputs": [
    {
     "name": "stdout",
     "output_type": "stream",
     "text": [
      "Model: \"sequential_14\"\n",
      "_________________________________________________________________\n",
      " Layer (type)                Output Shape              Param #   \n",
      "=================================================================\n",
      " conv2d_24 (Conv2D)          (None, 50, 50, 32)        896       \n",
      "                                                                 \n",
      " max_pooling2d_24 (MaxPoolin  (None, 25, 25, 32)       0         \n",
      " g2D)                                                            \n",
      "                                                                 \n",
      " conv2d_25 (Conv2D)          (None, 25, 25, 64)        18496     \n",
      "                                                                 \n",
      " max_pooling2d_25 (MaxPoolin  (None, 12, 12, 64)       0         \n",
      " g2D)                                                            \n",
      "                                                                 \n",
      " conv2d_26 (Conv2D)          (None, 12, 12, 128)       73856     \n",
      "                                                                 \n",
      " max_pooling2d_26 (MaxPoolin  (None, 6, 6, 128)        0         \n",
      " g2D)                                                            \n",
      "                                                                 \n",
      " flatten_14 (Flatten)        (None, 4608)              0         \n",
      "                                                                 \n",
      " dense_28 (Dense)            (None, 128)               589952    \n",
      "                                                                 \n",
      " dense_29 (Dense)            (None, 3)                 387       \n",
      "                                                                 \n",
      "=================================================================\n",
      "Total params: 683,587\n",
      "Trainable params: 683,587\n",
      "Non-trainable params: 0\n",
      "_________________________________________________________________\n"
     ]
    }
   ],
   "source": [
    "# Displaying the configurations of the model \n",
    "\n",
    "model3.summary()"
   ]
  },
  {
   "cell_type": "code",
   "execution_count": 157,
   "id": "939eacc0",
   "metadata": {},
   "outputs": [
    {
     "name": "stdout",
     "output_type": "stream",
     "text": [
      "Found 2720 images belonging to 3 classes.\n",
      "Found 680 images belonging to 3 classes.\n"
     ]
    }
   ],
   "source": [
    "# Preparing Training and Testing Sets by using flow_from_directory package\n",
    "# The package allows to read image files from the folder directory\n",
    "# Images are labelled according to their folder names\n",
    "\n",
    "train_it = datagen.flow_from_directory('C:\\\\Users\\\\akshay gera\\\\ML Theory and Practise Lab\\\\Project 2\\\\Project 2\\\\Olives Dataset\\\\Train', \n",
    "                                       class_mode='categorical', \n",
    "                                       batch_size=64, \n",
    "                                       target_size=(50, 50))\n",
    "\n",
    "test_it = datagen.flow_from_directory('C:\\\\Users\\\\akshay gera\\\\ML Theory and Practise Lab\\\\Project 2\\\\Project 2\\\\Olives Dataset\\\\test',\n",
    "                                        class_mode='categorical', \n",
    "                                        batch_size=64, \n",
    "                                        target_size=(50, 50))"
   ]
  },
  {
   "cell_type": "code",
   "execution_count": 158,
   "id": "3914b66b",
   "metadata": {
    "scrolled": false
   },
   "outputs": [
    {
     "name": "stderr",
     "output_type": "stream",
     "text": [
      "C:\\Users\\AKSHAY~1\\AppData\\Local\\Temp/ipykernel_1888/1613989014.py:3: UserWarning: `Model.fit_generator` is deprecated and will be removed in a future version. Please use `Model.fit`, which supports generators.\n",
      "  history3 = model3.fit_generator(train_it,\n"
     ]
    },
    {
     "name": "stdout",
     "output_type": "stream",
     "text": [
      "Epoch 1/20\n",
      "43/43 [==============================] - 63s 1s/step - loss: 0.6158 - accuracy: 0.4574 - precision: 0.4932 - recall: 0.2007 - auc: 0.6283 - val_loss: 0.6335 - val_accuracy: 0.3838 - val_precision: 0.6667 - val_recall: 0.0088 - val_auc: 0.5617\n",
      "Epoch 2/20\n",
      "43/43 [==============================] - 61s 1s/step - loss: 0.6036 - accuracy: 0.5040 - precision: 0.5640 - recall: 0.2658 - auc: 0.6643 - val_loss: 0.6356 - val_accuracy: 0.4691 - val_precision: 0.6564 - val_recall: 0.2809 - val_auc: 0.6279\n",
      "Epoch 3/20\n",
      "43/43 [==============================] - 61s 1s/step - loss: 0.5525 - accuracy: 0.5673 - precision: 0.6647 - recall: 0.4184 - auc: 0.7513 - val_loss: 0.5758 - val_accuracy: 0.4750 - val_precision: 0.5147 - val_recall: 0.3868 - val_auc: 0.6846\n",
      "Epoch 4/20\n",
      "43/43 [==============================] - 62s 1s/step - loss: 0.4922 - accuracy: 0.6070 - precision: 0.6992 - recall: 0.4879 - auc: 0.8000 - val_loss: 0.4987 - val_accuracy: 0.5618 - val_precision: 0.7453 - val_recall: 0.3485 - val_auc: 0.7726\n",
      "Epoch 5/20\n",
      "43/43 [==============================] - 61s 1s/step - loss: 0.4317 - accuracy: 0.6540 - precision: 0.7283 - recall: 0.5529 - auc: 0.8490 - val_loss: 0.4702 - val_accuracy: 0.6074 - val_precision: 0.6916 - val_recall: 0.4618 - val_auc: 0.8131\n",
      "Epoch 6/20\n",
      "43/43 [==============================] - 61s 1s/step - loss: 0.4279 - accuracy: 0.6838 - precision: 0.7493 - recall: 0.6121 - auc: 0.8569 - val_loss: 0.4641 - val_accuracy: 0.5838 - val_precision: 0.6603 - val_recall: 0.5059 - val_auc: 0.8108\n",
      "Epoch 7/20\n",
      "43/43 [==============================] - 61s 1s/step - loss: 0.3796 - accuracy: 0.7165 - precision: 0.7575 - recall: 0.6581 - auc: 0.8893 - val_loss: 0.4661 - val_accuracy: 0.5985 - val_precision: 0.6342 - val_recall: 0.5456 - val_auc: 0.8098\n",
      "Epoch 8/20\n",
      "43/43 [==============================] - 62s 1s/step - loss: 0.3631 - accuracy: 0.7342 - precision: 0.7716 - recall: 0.6868 - auc: 0.9001 - val_loss: 0.4308 - val_accuracy: 0.6515 - val_precision: 0.7038 - val_recall: 0.5662 - val_auc: 0.8479\n",
      "Epoch 9/20\n",
      "43/43 [==============================] - 61s 1s/step - loss: 0.3345 - accuracy: 0.7640 - precision: 0.7990 - recall: 0.7364 - auc: 0.9191 - val_loss: 0.5167 - val_accuracy: 0.5618 - val_precision: 0.5904 - val_recall: 0.5088 - val_auc: 0.7772\n",
      "Epoch 10/20\n",
      "43/43 [==============================] - 61s 1s/step - loss: 0.3377 - accuracy: 0.7614 - precision: 0.7938 - recall: 0.7276 - auc: 0.9152 - val_loss: 0.4859 - val_accuracy: 0.6088 - val_precision: 0.6323 - val_recall: 0.5765 - val_auc: 0.8096\n",
      "Epoch 11/20\n",
      "43/43 [==============================] - 61s 1s/step - loss: 0.3570 - accuracy: 0.7504 - precision: 0.7886 - recall: 0.7103 - auc: 0.9050 - val_loss: 0.4442 - val_accuracy: 0.6676 - val_precision: 0.6877 - val_recall: 0.6412 - val_auc: 0.8465\n",
      "Epoch 12/20\n",
      "43/43 [==============================] - 61s 1s/step - loss: 0.3173 - accuracy: 0.7772 - precision: 0.8030 - recall: 0.7555 - auc: 0.9265 - val_loss: 0.4824 - val_accuracy: 0.5956 - val_precision: 0.6377 - val_recall: 0.5618 - val_auc: 0.8036\n",
      "Epoch 13/20\n",
      "43/43 [==============================] - 62s 1s/step - loss: 0.3169 - accuracy: 0.7827 - precision: 0.8076 - recall: 0.7533 - auc: 0.9270 - val_loss: 0.4210 - val_accuracy: 0.6647 - val_precision: 0.7028 - val_recall: 0.6294 - val_auc: 0.8549\n",
      "Epoch 14/20\n",
      "43/43 [==============================] - 61s 1s/step - loss: 0.2981 - accuracy: 0.7989 - precision: 0.8186 - recall: 0.7783 - auc: 0.9355 - val_loss: 0.3946 - val_accuracy: 0.6956 - val_precision: 0.7327 - val_recall: 0.6529 - val_auc: 0.8754\n",
      "Epoch 15/20\n",
      "43/43 [==============================] - 62s 1s/step - loss: 0.2955 - accuracy: 0.8022 - precision: 0.8204 - recall: 0.7790 - auc: 0.9365 - val_loss: 0.4082 - val_accuracy: 0.6882 - val_precision: 0.7203 - val_recall: 0.6515 - val_auc: 0.8676\n",
      "Epoch 16/20\n",
      "43/43 [==============================] - 61s 1s/step - loss: 0.2887 - accuracy: 0.8033 - precision: 0.8231 - recall: 0.7835 - auc: 0.9393 - val_loss: 0.4103 - val_accuracy: 0.7162 - val_precision: 0.7294 - val_recall: 0.6897 - val_auc: 0.8741\n",
      "Epoch 17/20\n",
      "43/43 [==============================] - 62s 1s/step - loss: 0.2658 - accuracy: 0.8169 - precision: 0.8384 - recall: 0.7956 - auc: 0.9495 - val_loss: 0.4000 - val_accuracy: 0.7206 - val_precision: 0.7428 - val_recall: 0.6838 - val_auc: 0.8780\n",
      "Epoch 18/20\n",
      "43/43 [==============================] - 61s 1s/step - loss: 0.2783 - accuracy: 0.8077 - precision: 0.8282 - recall: 0.7956 - auc: 0.9432 - val_loss: 0.4182 - val_accuracy: 0.7103 - val_precision: 0.7287 - val_recall: 0.6794 - val_auc: 0.8698\n",
      "Epoch 19/20\n",
      "43/43 [==============================] - 61s 1s/step - loss: 0.2726 - accuracy: 0.8217 - precision: 0.8394 - recall: 0.8011 - auc: 0.9466 - val_loss: 0.4507 - val_accuracy: 0.6618 - val_precision: 0.6912 - val_recall: 0.6353 - val_auc: 0.8491\n",
      "Epoch 20/20\n",
      "43/43 [==============================] - 62s 1s/step - loss: 0.2536 - accuracy: 0.8346 - precision: 0.8509 - recall: 0.8184 - auc: 0.9533 - val_loss: 0.3920 - val_accuracy: 0.7132 - val_precision: 0.7368 - val_recall: 0.6794 - val_auc: 0.8812\n"
     ]
    }
   ],
   "source": [
    "# fitting the  model and running it for 20 epochs\n",
    "\n",
    "history3 = model3.fit_generator(train_it, \n",
    "                              steps_per_epoch=len(train_it), \n",
    "                              validation_data=test_it, \n",
    "                              validation_steps=len(test_it), \n",
    "                              epochs=20,\n",
    "                              verbose=1)"
   ]
  },
  {
   "cell_type": "code",
   "execution_count": 160,
   "id": "e0d3d90d",
   "metadata": {},
   "outputs": [
    {
     "data": {
      "image/png": "[encoded data removed]",
      "text/plain": [
       "<Figure size 720x1080 with 2 Axes>"
      ]
     },
     "metadata": {
      "needs_background": "light"
     },
     "output_type": "display_data"
    }
   ],
   "source": [
    "# Calling the function for plotting the accuracy and loss for each epoch\n",
    "\n",
    "plt.figure(figsize=(10,15))\n",
    "summarize_diagnostics(history3)"
   ]
  },
  {
   "cell_type": "markdown",
   "id": "c5c4eb49",
   "metadata": {},
   "source": [
    "# 6) Saving and Loading the Best Model"
   ]
  },
  {
   "cell_type": "code",
   "execution_count": 253,
   "id": "6a5bf96f",
   "metadata": {},
   "outputs": [],
   "source": [
    "# We have found model3 as our best model and we are saving it for further use\n",
    "\n",
    "model3.save('Best_Model.h5')"
   ]
  },
  {
   "cell_type": "code",
   "execution_count": 259,
   "id": "e128cebe",
   "metadata": {},
   "outputs": [],
   "source": [
    "from tensorflow.keras.utils import load_img\n",
    "from tensorflow.keras.utils import img_to_array\n",
    "from keras.models import load_model"
   ]
  },
  {
   "cell_type": "code",
   "execution_count": 269,
   "id": "b3795bbc",
   "metadata": {},
   "outputs": [],
   "source": [
    "# Creating a funcion to read an image file and convert it into numpy array for performing prediction\n",
    "\n",
    "def load_image(filename):\n",
    "    # load the image\n",
    "    img = load_img(filename, target_size=(200, 200))\n",
    "    # convert to array\n",
    "    img = img_to_array(img)\n",
    "    # reshape into a single sample with 3 channels\n",
    "    img = img.reshape(1, 200, 200, 3)\n",
    "    # center pixel data\n",
    "    img = img.astype('float32')\n",
    "    img = img - [123.68, 116.779, 103.939]\n",
    "    return img"
   ]
  },
  {
   "cell_type": "code",
   "execution_count": 270,
   "id": "6ebb136a",
   "metadata": {},
   "outputs": [
    {
     "data": {
      "text/plain": [
       "array([[[[-67.68 , -54.779, -55.939],\n",
       "         [-63.68 , -50.779, -51.939],\n",
       "         [-62.68 , -49.779, -50.939],\n",
       "         ...,\n",
       "         [ 31.32 ,  50.221,  41.061],\n",
       "         [ 29.32 ,  48.221,  39.061],\n",
       "         [ 29.32 ,  48.221,  39.061]],\n",
       "\n",
       "        [[-63.68 , -50.779, -51.939],\n",
       "         [-63.68 , -50.779, -51.939],\n",
       "         [-61.68 , -48.779, -49.939],\n",
       "         ...,\n",
       "         [ 34.32 ,  53.221,  44.061],\n",
       "         [ 31.32 ,  50.221,  41.061],\n",
       "         [ 28.32 ,  47.221,  38.061]],\n",
       "\n",
       "        [[-66.68 , -53.779, -54.939],\n",
       "         [-61.68 , -48.779, -49.939],\n",
       "         [-61.68 , -48.779, -49.939],\n",
       "         ...,\n",
       "         [ 32.32 ,  51.221,  42.061],\n",
       "         [ 30.32 ,  49.221,  40.061],\n",
       "         [ 32.32 ,  51.221,  42.061]],\n",
       "\n",
       "        ...,\n",
       "\n",
       "        [[-69.68 , -59.779, -53.939],\n",
       "         [-69.68 , -59.779, -53.939],\n",
       "         [-65.68 , -55.779, -49.939],\n",
       "         ...,\n",
       "         [ 22.32 ,  38.221,  32.061],\n",
       "         [ 21.32 ,  37.221,  31.061],\n",
       "         [ 20.32 ,  36.221,  30.061]],\n",
       "\n",
       "        [[-70.68 , -60.779, -54.939],\n",
       "         [-69.68 , -59.779, -53.939],\n",
       "         [-69.68 , -59.779, -53.939],\n",
       "         ...,\n",
       "         [ 18.32 ,  34.221,  28.061],\n",
       "         [ 20.32 ,  36.221,  30.061],\n",
       "         [ 18.32 ,  34.221,  28.061]],\n",
       "\n",
       "        [[-72.68 , -62.779, -56.939],\n",
       "         [-69.68 , -59.779, -53.939],\n",
       "         [-68.68 , -58.779, -52.939],\n",
       "         ...,\n",
       "         [ 20.32 ,  36.221,  30.061],\n",
       "         [ 19.32 ,  35.221,  29.061],\n",
       "         [ 14.32 ,  30.221,  24.061]]]])"
      ]
     },
     "execution_count": 270,
     "metadata": {},
     "output_type": "execute_result"
    }
   ],
   "source": [
    "# Checking the sample output of loading a random image file with Aculus_Bacteria from Test Dataset\n",
    "# Checking how the conversion looks like\n",
    "\n",
    "load_image('Aculus_Test.jpg')"
   ]
  },
  {
   "cell_type": "code",
   "execution_count": 281,
   "id": "9643fa1b",
   "metadata": {},
   "outputs": [
    {
     "name": "stdout",
     "output_type": "stream",
     "text": [
      "WARNING:tensorflow:5 out of the last 167 calls to <function Model.make_predict_function.<locals>.predict_function at 0x000001311B1CD160> triggered tf.function retracing. Tracing is expensive and the excessive number of tracings could be due to (1) creating @tf.function repeatedly in a loop, (2) passing tensors with different shapes, (3) passing Python objects instead of tensors. For (1), please define your @tf.function outside of the loop. For (2), @tf.function has reduce_retracing=True option that can avoid unnecessary retracing. For (3), please refer to https://www.tensorflow.org/guide/function#controlling_retracing and https://www.tensorflow.org/api_docs/python/tf/function for  more details.\n",
      "1/1 [==============================] - 0s 264ms/step\n",
      "[1.9353943e-33 0.0000000e+00 1.0000000e+00]\n"
     ]
    }
   ],
   "source": [
    "# Creating a function to perform prediction on the image file loaded above\n",
    "\n",
    "def run_example():\n",
    "    # load the image\n",
    "    img = load_image('Aculus_Test.jpg')\n",
    "    # load model\n",
    "    model = load_model('Best_Model.h5')\n",
    "    # predict the class\n",
    "    result = model.predict(img)\n",
    "    print(result[0])\n",
    "\n",
    "# entry point, run the example\n",
    "run_example()"
   ]
  },
  {
   "cell_type": "markdown",
   "id": "1c8b902b",
   "metadata": {},
   "source": [
    "### Observation\n",
    "\n",
    "The output we recived is an output of softmax function. We can see the array contains probability for 3 classes and Class 2 has  probablity of 1 which shows that the model missclassified the Aculus image to be Class 2 which is Peacock Bacteria Leaf since the accuracy of the model is close to 60% it might make missclassifications 4 out of 10 times"
   ]
  }
 ],
 "metadata": {
  "kernelspec": {
   "display_name": "Python 3 (ipykernel)",
   "language": "python",
   "name": "python3"
  },
  "language_info": {
   "codemirror_mode": {
    "name": "ipython",
    "version": 3
   },
   "file_extension": ".py",
   "mimetype": "text/x-python",
   "name": "python",
   "nbconvert_exporter": "python",
   "pygments_lexer": "ipython3",
   "version": "3.9.7"
  }
 },
 "nbformat": 4,
 "nbformat_minor": 5
}
